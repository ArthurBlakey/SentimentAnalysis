{
 "cells": [
  {
   "cell_type": "markdown",
   "metadata": {},
   "source": [
    "Python script that uses sentiment analysis to rate reviews in an excel file\n",
    "1. Port file into dataframe\n",
    "2. create the script that shits out the sentiment values for each comment\n",
    "3. Add the values to the dataframe and export the dataframe to excell/csv"
   ]
  },
  {
   "cell_type": "markdown",
   "metadata": {},
   "source": [
    "<h2>Import necessary packages"
   ]
  },
  {
   "cell_type": "code",
   "execution_count": 16,
   "metadata": {
    "collapsed": true
   },
   "outputs": [],
   "source": [
    "import pandas as pd\n",
    "import os as os\n",
    "from pattern.nl import sentiment, attributive"
   ]
  },
  {
   "cell_type": "markdown",
   "metadata": {},
   "source": [
    "<h2>Port the file into a dataframe"
   ]
  },
  {
   "cell_type": "code",
   "execution_count": 39,
   "metadata": {},
   "outputs": [
    {
     "data": {
      "text/html": [
       "<div>\n",
       "<style scoped>\n",
       "    .dataframe tbody tr th:only-of-type {\n",
       "        vertical-align: middle;\n",
       "    }\n",
       "\n",
       "    .dataframe tbody tr th {\n",
       "        vertical-align: top;\n",
       "    }\n",
       "\n",
       "    .dataframe thead th {\n",
       "        text-align: right;\n",
       "    }\n",
       "</style>\n",
       "<table border=\"1\" class=\"dataframe\">\n",
       "  <thead>\n",
       "    <tr style=\"text-align: right;\">\n",
       "      <th></th>\n",
       "      <th>Personeelnummer</th>\n",
       "      <th>Naam</th>\n",
       "      <th>Opleiding</th>\n",
       "      <th>Commentaar</th>\n",
       "    </tr>\n",
       "  </thead>\n",
       "  <tbody>\n",
       "    <tr>\n",
       "      <th>0</th>\n",
       "      <td>2152326</td>\n",
       "      <td>Raymond Goethals</td>\n",
       "      <td>mpleo</td>\n",
       "      <td>Beste training die ik al ooit gevolgd heb</td>\n",
       "    </tr>\n",
       "    <tr>\n",
       "      <th>1</th>\n",
       "      <td>6742689</td>\n",
       "      <td>Filip Clement</td>\n",
       "      <td>mpleo</td>\n",
       "      <td>Saai</td>\n",
       "    </tr>\n",
       "    <tr>\n",
       "      <th>2</th>\n",
       "      <td>6884800</td>\n",
       "      <td>Yves Verhaegen</td>\n",
       "      <td>mpleo</td>\n",
       "      <td>NaN</td>\n",
       "    </tr>\n",
       "    <tr>\n",
       "      <th>3</th>\n",
       "      <td>316200</td>\n",
       "      <td>Claude Makelele</td>\n",
       "      <td>mpleo</td>\n",
       "      <td>Niet goed.</td>\n",
       "    </tr>\n",
       "    <tr>\n",
       "      <th>4</th>\n",
       "      <td>4641109</td>\n",
       "      <td>Jos Daerden</td>\n",
       "      <td>mpleo</td>\n",
       "      <td>Goed. Niet genoeg broodjes</td>\n",
       "    </tr>\n",
       "    <tr>\n",
       "      <th>5</th>\n",
       "      <td>3543987</td>\n",
       "      <td>Ivan Leko</td>\n",
       "      <td>mpleo</td>\n",
       "      <td>De lesgever wist veel over de materie en kon d...</td>\n",
       "    </tr>\n",
       "    <tr>\n",
       "      <th>6</th>\n",
       "      <td>23672109</td>\n",
       "      <td>Georges Leekens</td>\n",
       "      <td>mpleo</td>\n",
       "      <td>8/10</td>\n",
       "    </tr>\n",
       "  </tbody>\n",
       "</table>\n",
       "</div>"
      ],
      "text/plain": [
       "   Personeelnummer              Naam Opleiding  \\\n",
       "0          2152326  Raymond Goethals     mpleo   \n",
       "1          6742689     Filip Clement     mpleo   \n",
       "2          6884800    Yves Verhaegen     mpleo   \n",
       "3           316200   Claude Makelele     mpleo   \n",
       "4          4641109       Jos Daerden     mpleo   \n",
       "5          3543987         Ivan Leko     mpleo   \n",
       "6         23672109   Georges Leekens     mpleo   \n",
       "\n",
       "                                          Commentaar  \n",
       "0          Beste training die ik al ooit gevolgd heb  \n",
       "1                                               Saai  \n",
       "2                                                NaN  \n",
       "3                                         Niet goed.  \n",
       "4                         Goed. Niet genoeg broodjes  \n",
       "5  De lesgever wist veel over de materie en kon d...  \n",
       "6                                               8/10  "
      ]
     },
     "execution_count": 39,
     "metadata": {},
     "output_type": "execute_result"
    }
   ],
   "source": [
    "os.chdir('/Users/glencoppens/Jupyter notebooks/Sentiment Analysis evaluations mpleo')\n",
    "file = 'shorteval.csv'\n",
    "df1 = pd.read_csv(file, delimiter = \";\", header=0)\n",
    "df1"
   ]
  },
  {
   "cell_type": "code",
   "execution_count": 40,
   "metadata": {},
   "outputs": [
    {
     "data": {
      "text/plain": [
       "0            Beste training die ik al ooit gevolgd heb\n",
       "1                                                 Saai\n",
       "2                                                  nan\n",
       "3                                           Niet goed.\n",
       "4                           Goed. Niet genoeg broodjes\n",
       "5    De lesgever wist veel over de materie en kon d...\n",
       "6                                                 8/10\n",
       "Name: Commentaar, dtype: object"
      ]
     },
     "execution_count": 40,
     "metadata": {},
     "output_type": "execute_result"
    }
   ],
   "source": [
    "df1.Commentaar = df1.Commentaar.astype(str)\n",
    "df1.Commentaar"
   ]
  },
  {
   "cell_type": "code",
   "execution_count": 41,
   "metadata": {},
   "outputs": [
    {
     "name": "stdout",
     "output_type": "stream",
     "text": [
      "(-0.09999999999999998, 0.9583333333333334)\n"
     ]
    }
   ],
   "source": [
    "print(sentiment(str(df1.Commentaar)))"
   ]
  },
  {
   "cell_type": "markdown",
   "metadata": {},
   "source": [
    "<h2>Add the sentiment analysis to the dataframe"
   ]
  },
  {
   "cell_type": "code",
   "execution_count": 48,
   "metadata": {},
   "outputs": [
    {
     "data": {
      "text/html": [
       "<div>\n",
       "<style scoped>\n",
       "    .dataframe tbody tr th:only-of-type {\n",
       "        vertical-align: middle;\n",
       "    }\n",
       "\n",
       "    .dataframe tbody tr th {\n",
       "        vertical-align: top;\n",
       "    }\n",
       "\n",
       "    .dataframe thead th {\n",
       "        text-align: right;\n",
       "    }\n",
       "</style>\n",
       "<table border=\"1\" class=\"dataframe\">\n",
       "  <thead>\n",
       "    <tr style=\"text-align: right;\">\n",
       "      <th></th>\n",
       "      <th>Personeelnummer</th>\n",
       "      <th>Naam</th>\n",
       "      <th>Opleiding</th>\n",
       "      <th>Commentaar</th>\n",
       "      <th>Polarity</th>\n",
       "      <th>Subjectivity</th>\n",
       "    </tr>\n",
       "  </thead>\n",
       "  <tbody>\n",
       "    <tr>\n",
       "      <th>0</th>\n",
       "      <td>2152326</td>\n",
       "      <td>Raymond Goethals</td>\n",
       "      <td>mpleo</td>\n",
       "      <td>Beste training die ik al ooit gevolgd heb</td>\n",
       "      <td>0.675</td>\n",
       "      <td>0.975</td>\n",
       "    </tr>\n",
       "    <tr>\n",
       "      <th>1</th>\n",
       "      <td>6742689</td>\n",
       "      <td>Filip Clement</td>\n",
       "      <td>mpleo</td>\n",
       "      <td>Saai</td>\n",
       "      <td>-0.700</td>\n",
       "      <td>1.000</td>\n",
       "    </tr>\n",
       "    <tr>\n",
       "      <th>2</th>\n",
       "      <td>6884800</td>\n",
       "      <td>Yves Verhaegen</td>\n",
       "      <td>mpleo</td>\n",
       "      <td>nan</td>\n",
       "      <td>0.000</td>\n",
       "      <td>0.000</td>\n",
       "    </tr>\n",
       "    <tr>\n",
       "      <th>3</th>\n",
       "      <td>316200</td>\n",
       "      <td>Claude Makelele</td>\n",
       "      <td>mpleo</td>\n",
       "      <td>Niet goed.</td>\n",
       "      <td>-0.275</td>\n",
       "      <td>0.900</td>\n",
       "    </tr>\n",
       "    <tr>\n",
       "      <th>4</th>\n",
       "      <td>4641109</td>\n",
       "      <td>Jos Daerden</td>\n",
       "      <td>mpleo</td>\n",
       "      <td>Goed. Niet genoeg broodjes</td>\n",
       "      <td>0.550</td>\n",
       "      <td>0.900</td>\n",
       "    </tr>\n",
       "    <tr>\n",
       "      <th>5</th>\n",
       "      <td>3543987</td>\n",
       "      <td>Ivan Leko</td>\n",
       "      <td>mpleo</td>\n",
       "      <td>De lesgever wist veel over de materie en kon d...</td>\n",
       "      <td>0.600</td>\n",
       "      <td>0.900</td>\n",
       "    </tr>\n",
       "    <tr>\n",
       "      <th>6</th>\n",
       "      <td>23672109</td>\n",
       "      <td>Georges Leekens</td>\n",
       "      <td>mpleo</td>\n",
       "      <td>8/10</td>\n",
       "      <td>0.000</td>\n",
       "      <td>0.000</td>\n",
       "    </tr>\n",
       "  </tbody>\n",
       "</table>\n",
       "</div>"
      ],
      "text/plain": [
       "   Personeelnummer              Naam Opleiding  \\\n",
       "0          2152326  Raymond Goethals     mpleo   \n",
       "1          6742689     Filip Clement     mpleo   \n",
       "2          6884800    Yves Verhaegen     mpleo   \n",
       "3           316200   Claude Makelele     mpleo   \n",
       "4          4641109       Jos Daerden     mpleo   \n",
       "5          3543987         Ivan Leko     mpleo   \n",
       "6         23672109   Georges Leekens     mpleo   \n",
       "\n",
       "                                          Commentaar  Polarity  Subjectivity  \n",
       "0          Beste training die ik al ooit gevolgd heb     0.675         0.975  \n",
       "1                                               Saai    -0.700         1.000  \n",
       "2                                                nan     0.000         0.000  \n",
       "3                                         Niet goed.    -0.275         0.900  \n",
       "4                         Goed. Niet genoeg broodjes     0.550         0.900  \n",
       "5  De lesgever wist veel over de materie en kon d...     0.600         0.900  \n",
       "6                                               8/10     0.000         0.000  "
      ]
     },
     "execution_count": 48,
     "metadata": {},
     "output_type": "execute_result"
    }
   ],
   "source": [
    "sentvalues = []\n",
    "for v in df1.Commentaar:\n",
    "    v = sentiment(v)\n",
    "    sentvalues.append(v)\n",
    "df2 = pd.DataFrame(sentvalues, columns = ['Polarity', 'Subjectivity'])\n",
    "\n",
    "df = pd.concat([df1, df2], axis=1, join_axes=[df1.index])\n",
    "df"
   ]
  },
  {
   "cell_type": "markdown",
   "metadata": {},
   "source": [
    "<h2>Writing the results into a csv"
   ]
  },
  {
   "cell_type": "code",
   "execution_count": 24,
   "metadata": {
    "collapsed": true
   },
   "outputs": [],
   "source": [
    "df1.to_csv('results sentiment analysis.csv', sep=';')"
   ]
  }
 ],
 "metadata": {
  "kernelspec": {
   "display_name": "Python 3",
   "language": "python",
   "name": "python3"
  },
  "language_info": {
   "codemirror_mode": {
    "name": "ipython",
    "version": 3
   },
   "file_extension": ".py",
   "mimetype": "text/x-python",
   "name": "python",
   "nbconvert_exporter": "python",
   "pygments_lexer": "ipython3",
   "version": "3.6.3"
  }
 },
 "nbformat": 4,
 "nbformat_minor": 2
}
