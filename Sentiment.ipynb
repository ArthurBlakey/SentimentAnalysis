{
 "cells": [
  {
   "cell_type": "markdown",
   "metadata": {},
   "source": [
    "Python script that uses sentiment analysis to rate reviews in an excel file\n",
    "1. Port file into dataframe\n",
    "2. create the script that shits out the sentiment values for each comment\n",
    "3. Add the values to the dataframe and export the dataframe to excell/csv"
   ]
  },
  {
   "cell_type": "markdown",
   "metadata": {},
   "source": [
    "<h2>Import necessary packages"
   ]
  },
  {
   "cell_type": "code",
   "execution_count": 16,
   "metadata": {
    "collapsed": true
   },
   "outputs": [],
   "source": [
    "import pandas as pd\n",
    "import os as os\n",
    "from pattern.nl import sentiment, attributive"
   ]
  },
  {
   "cell_type": "markdown",
   "metadata": {},
   "source": [
    "<h2>Port the file into a dataframe"
   ]
  },
  {
   "cell_type": "code",
   "execution_count": null,
   "metadata": {
    "collapsed": true
   },
   "outputs": [],
   "source": []
  },
  {
   "cell_type": "code",
   "execution_count": 4,
   "metadata": {},
   "outputs": [
    {
     "data": {
      "text/html": [
       "<div>\n",
       "<style scoped>\n",
       "    .dataframe tbody tr th:only-of-type {\n",
       "        vertical-align: middle;\n",
       "    }\n",
       "\n",
       "    .dataframe tbody tr th {\n",
       "        vertical-align: top;\n",
       "    }\n",
       "\n",
       "    .dataframe thead th {\n",
       "        text-align: right;\n",
       "    }\n",
       "</style>\n",
       "<table border=\"1\" class=\"dataframe\">\n",
       "  <thead>\n",
       "    <tr style=\"text-align: right;\">\n",
       "      <th></th>\n",
       "      <th>Personeelnummer</th>\n",
       "      <th>Naam</th>\n",
       "      <th>Opleiding</th>\n",
       "      <th>Commentaar</th>\n",
       "    </tr>\n",
       "  </thead>\n",
       "  <tbody>\n",
       "    <tr>\n",
       "      <th>0</th>\n",
       "      <td>2152326</td>\n",
       "      <td>Glen Coppens</td>\n",
       "      <td>mpleo</td>\n",
       "      <td>Beste training die ik al ooit gevolgd heb</td>\n",
       "    </tr>\n",
       "    <tr>\n",
       "      <th>1</th>\n",
       "      <td>6742689</td>\n",
       "      <td>Bert Vanherp</td>\n",
       "      <td>mpleo</td>\n",
       "      <td>Saai</td>\n",
       "    </tr>\n",
       "    <tr>\n",
       "      <th>2</th>\n",
       "      <td>6884800</td>\n",
       "      <td>Benjamin Houthuys</td>\n",
       "      <td>mpleo</td>\n",
       "      <td>NaN</td>\n",
       "    </tr>\n",
       "    <tr>\n",
       "      <th>3</th>\n",
       "      <td>4641109</td>\n",
       "      <td>Jos Daerden</td>\n",
       "      <td>mpleo</td>\n",
       "      <td>Goed. Niet genoeg broodjes</td>\n",
       "    </tr>\n",
       "    <tr>\n",
       "      <th>4</th>\n",
       "      <td>3543987</td>\n",
       "      <td>Ivan Leko</td>\n",
       "      <td>mpleo</td>\n",
       "      <td>De lesgever wist veel over de materie en kon d...</td>\n",
       "    </tr>\n",
       "  </tbody>\n",
       "</table>\n",
       "</div>"
      ],
      "text/plain": [
       "   Personeelnummer               Naam Opleiding  \\\n",
       "0          2152326       Glen Coppens     mpleo   \n",
       "1          6742689       Bert Vanherp     mpleo   \n",
       "2          6884800  Benjamin Houthuys     mpleo   \n",
       "3          4641109        Jos Daerden     mpleo   \n",
       "4          3543987          Ivan Leko     mpleo   \n",
       "\n",
       "                                          Commentaar  \n",
       "0          Beste training die ik al ooit gevolgd heb  \n",
       "1                                               Saai  \n",
       "2                                                NaN  \n",
       "3                         Goed. Niet genoeg broodjes  \n",
       "4  De lesgever wist veel over de materie en kon d...  "
      ]
     },
     "execution_count": 4,
     "metadata": {},
     "output_type": "execute_result"
    }
   ],
   "source": [
    "os.chdir('/Users/glencoppens/Jupyter notebooks/Sentiment Analysis evaluations mpleo')\n",
    "file = 'shorteval.csv'\n",
    "df1 = pd.read_csv(file, delimiter = \";\", header=0)\n",
    "df1"
   ]
  },
  {
   "cell_type": "code",
   "execution_count": 5,
   "metadata": {},
   "outputs": [
    {
     "data": {
      "text/plain": [
       "0            Beste training die ik al ooit gevolgd heb\n",
       "1                                                 Saai\n",
       "2                                                  nan\n",
       "3                           Goed. Niet genoeg broodjes\n",
       "4    De lesgever wist veel over de materie en kon d...\n",
       "Name: Commentaar, dtype: object"
      ]
     },
     "execution_count": 5,
     "metadata": {},
     "output_type": "execute_result"
    }
   ],
   "source": [
    "df1.Commentaar = df1.Commentaar.astype(str)\n",
    "df1.Commentaar"
   ]
  },
  {
   "cell_type": "code",
   "execution_count": 13,
   "metadata": {},
   "outputs": [
    {
     "name": "stdout",
     "output_type": "stream",
     "text": [
      "(0.17500000000000004, 0.9583333333333334)\n"
     ]
    }
   ],
   "source": [
    "print(sentiment(str(df1.Commentaar)))\n",
    "#Don't understand why this command doesn't throw an error."
   ]
  },
  {
   "cell_type": "markdown",
   "metadata": {},
   "source": [
    "<h2>Add the sentiment analysis to the dataframe"
   ]
  },
  {
   "cell_type": "code",
   "execution_count": 18,
   "metadata": {},
   "outputs": [
    {
     "name": "stdout",
     "output_type": "stream",
     "text": [
      "[(0.675, 0.975), (-0.7, 1.0), (0.0, 0.0), (0.55, 0.9), (0.6, 0.9)]\n"
     ]
    },
    {
     "data": {
      "text/html": [
       "<div>\n",
       "<style scoped>\n",
       "    .dataframe tbody tr th:only-of-type {\n",
       "        vertical-align: middle;\n",
       "    }\n",
       "\n",
       "    .dataframe tbody tr th {\n",
       "        vertical-align: top;\n",
       "    }\n",
       "\n",
       "    .dataframe thead th {\n",
       "        text-align: right;\n",
       "    }\n",
       "</style>\n",
       "<table border=\"1\" class=\"dataframe\">\n",
       "  <thead>\n",
       "    <tr style=\"text-align: right;\">\n",
       "      <th></th>\n",
       "      <th>Personeelnummer</th>\n",
       "      <th>Naam</th>\n",
       "      <th>Opleiding</th>\n",
       "      <th>Commentaar</th>\n",
       "      <th>Sentvalues</th>\n",
       "    </tr>\n",
       "  </thead>\n",
       "  <tbody>\n",
       "    <tr>\n",
       "      <th>0</th>\n",
       "      <td>2152326</td>\n",
       "      <td>Glen Coppens</td>\n",
       "      <td>mpleo</td>\n",
       "      <td>Beste training die ik al ooit gevolgd heb</td>\n",
       "      <td>(0.675, 0.975)</td>\n",
       "    </tr>\n",
       "    <tr>\n",
       "      <th>1</th>\n",
       "      <td>6742689</td>\n",
       "      <td>Bert Vanherp</td>\n",
       "      <td>mpleo</td>\n",
       "      <td>Saai</td>\n",
       "      <td>(-0.7, 1.0)</td>\n",
       "    </tr>\n",
       "    <tr>\n",
       "      <th>2</th>\n",
       "      <td>6884800</td>\n",
       "      <td>Benjamin Houthuys</td>\n",
       "      <td>mpleo</td>\n",
       "      <td>nan</td>\n",
       "      <td>(0.0, 0.0)</td>\n",
       "    </tr>\n",
       "    <tr>\n",
       "      <th>3</th>\n",
       "      <td>4641109</td>\n",
       "      <td>Jos Daerden</td>\n",
       "      <td>mpleo</td>\n",
       "      <td>Goed. Niet genoeg broodjes</td>\n",
       "      <td>(0.55, 0.9)</td>\n",
       "    </tr>\n",
       "    <tr>\n",
       "      <th>4</th>\n",
       "      <td>3543987</td>\n",
       "      <td>Ivan Leko</td>\n",
       "      <td>mpleo</td>\n",
       "      <td>De lesgever wist veel over de materie en kon d...</td>\n",
       "      <td>(0.6, 0.9)</td>\n",
       "    </tr>\n",
       "  </tbody>\n",
       "</table>\n",
       "</div>"
      ],
      "text/plain": [
       "   Personeelnummer               Naam Opleiding  \\\n",
       "0          2152326       Glen Coppens     mpleo   \n",
       "1          6742689       Bert Vanherp     mpleo   \n",
       "2          6884800  Benjamin Houthuys     mpleo   \n",
       "3          4641109        Jos Daerden     mpleo   \n",
       "4          3543987          Ivan Leko     mpleo   \n",
       "\n",
       "                                          Commentaar      Sentvalues  \n",
       "0          Beste training die ik al ooit gevolgd heb  (0.675, 0.975)  \n",
       "1                                               Saai     (-0.7, 1.0)  \n",
       "2                                                nan      (0.0, 0.0)  \n",
       "3                         Goed. Niet genoeg broodjes     (0.55, 0.9)  \n",
       "4  De lesgever wist veel over de materie en kon d...      (0.6, 0.9)  "
      ]
     },
     "execution_count": 18,
     "metadata": {},
     "output_type": "execute_result"
    }
   ],
   "source": [
    "newcol = []\n",
    "for v in df1.Commentaar:\n",
    "    v = sentiment(v)\n",
    "    newcol.append(v)\n",
    "df1 = df1.assign(Sentvalues = newcol)\n",
    "print(newcol)\n",
    "df1"
   ]
  },
  {
   "cell_type": "code",
   "execution_count": null,
   "metadata": {
    "collapsed": true
   },
   "outputs": [],
   "source": []
  },
  {
   "cell_type": "markdown",
   "metadata": {},
   "source": [
    "<h2>Writing the results into the same csv"
   ]
  },
  {
   "cell_type": "code",
   "execution_count": 24,
   "metadata": {
    "collapsed": true
   },
   "outputs": [],
   "source": [
    "df1.to_csv('results sentiment analysis.csv', sep=';')"
   ]
  },
  {
   "cell_type": "code",
   "execution_count": null,
   "metadata": {
    "collapsed": true
   },
   "outputs": [],
   "source": []
  },
  {
   "cell_type": "code",
   "execution_count": null,
   "metadata": {
    "collapsed": true
   },
   "outputs": [],
   "source": []
  }
 ],
 "metadata": {
  "kernelspec": {
   "display_name": "Python 3",
   "language": "python",
   "name": "python3"
  },
  "language_info": {
   "codemirror_mode": {
    "name": "ipython",
    "version": 3
   },
   "file_extension": ".py",
   "mimetype": "text/x-python",
   "name": "python",
   "nbconvert_exporter": "python",
   "pygments_lexer": "ipython3",
   "version": "3.6.3"
  }
 },
 "nbformat": 4,
 "nbformat_minor": 2
}
